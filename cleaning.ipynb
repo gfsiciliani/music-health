{
 "cells": [
  {
   "cell_type": "markdown",
   "metadata": {},
   "source": [
    "# Cleaning & Preprocessing"
   ]
  },
  {
   "cell_type": "markdown",
   "metadata": {},
   "source": [
    "## Imports"
   ]
  },
  {
   "cell_type": "code",
   "execution_count": 1,
   "metadata": {},
   "outputs": [],
   "source": [
    "# Import dependencies\n",
    "import pandas as pd\n",
    "import uuid\n",
    "from sqlalchemy import create_engine"
   ]
  },
  {
   "cell_type": "markdown",
   "metadata": {},
   "source": [
    "## Cleaning"
   ]
  },
  {
   "cell_type": "code",
   "execution_count": 2,
   "metadata": {},
   "outputs": [
    {
     "name": "stdout",
     "output_type": "stream",
     "text": [
      "<class 'pandas.core.frame.DataFrame'>\n",
      "RangeIndex: 736 entries, 0 to 735\n",
      "Data columns (total 33 columns):\n",
      " #   Column                        Non-Null Count  Dtype  \n",
      "---  ------                        --------------  -----  \n",
      " 0   Timestamp                     736 non-null    object \n",
      " 1   Age                           735 non-null    float64\n",
      " 2   Primary streaming service     735 non-null    object \n",
      " 3   Hours per day                 736 non-null    float64\n",
      " 4   While working                 733 non-null    object \n",
      " 5   Instrumentalist               732 non-null    object \n",
      " 6   Composer                      735 non-null    object \n",
      " 7   Fav genre                     736 non-null    object \n",
      " 8   Exploratory                   736 non-null    object \n",
      " 9   Foreign languages             732 non-null    object \n",
      " 10  BPM                           629 non-null    float64\n",
      " 11  Frequency [Classical]         736 non-null    object \n",
      " 12  Frequency [Country]           736 non-null    object \n",
      " 13  Frequency [EDM]               736 non-null    object \n",
      " 14  Frequency [Folk]              736 non-null    object \n",
      " 15  Frequency [Gospel]            736 non-null    object \n",
      " 16  Frequency [Hip hop]           736 non-null    object \n",
      " 17  Frequency [Jazz]              736 non-null    object \n",
      " 18  Frequency [K pop]             736 non-null    object \n",
      " 19  Frequency [Latin]             736 non-null    object \n",
      " 20  Frequency [Lofi]              736 non-null    object \n",
      " 21  Frequency [Metal]             736 non-null    object \n",
      " 22  Frequency [Pop]               736 non-null    object \n",
      " 23  Frequency [R&B]               736 non-null    object \n",
      " 24  Frequency [Rap]               736 non-null    object \n",
      " 25  Frequency [Rock]              736 non-null    object \n",
      " 26  Frequency [Video game music]  736 non-null    object \n",
      " 27  Anxiety                       736 non-null    float64\n",
      " 28  Depression                    736 non-null    float64\n",
      " 29  Insomnia                      736 non-null    float64\n",
      " 30  OCD                           736 non-null    float64\n",
      " 31  Music effects                 728 non-null    object \n",
      " 32  Permissions                   736 non-null    object \n",
      "dtypes: float64(7), object(26)\n",
      "memory usage: 189.9+ KB\n"
     ]
    }
   ],
   "source": [
    "# Read CSV\n",
    "filepath = 'resources/mxmh_survey_results.csv'\n",
    "df = pd.read_csv(filepath)\n",
    "df.info()"
   ]
  },
  {
   "cell_type": "code",
   "execution_count": 3,
   "metadata": {},
   "outputs": [],
   "source": [
    "# Function to reformat columns lowercase w/o spaces/braces\n",
    "def col_mapper(old):\n",
    "    lower = old.lower()\n",
    "    underscore = lower.replace(' ', '_')\n",
    "    new = underscore.replace('[', '').replace(']', '') # 1 level of abstraction\n",
    "    return new"
   ]
  },
  {
   "cell_type": "code",
   "execution_count": 4,
   "metadata": {},
   "outputs": [
    {
     "name": "stdout",
     "output_type": "stream",
     "text": [
      "Index(['timestamp', 'age', 'primary_streaming_service', 'hours_per_day',\n",
      "       'while_working', 'instrumentalist', 'composer', 'fav_genre',\n",
      "       'exploratory', 'foreign_languages', 'bpm', 'frequency_classical',\n",
      "       'frequency_country', 'frequency_edm', 'frequency_folk',\n",
      "       'frequency_gospel', 'frequency_hip_hop', 'frequency_jazz',\n",
      "       'frequency_k_pop', 'frequency_latin', 'frequency_lofi',\n",
      "       'frequency_metal', 'frequency_pop', 'frequency_r&b', 'frequency_rap',\n",
      "       'frequency_rock', 'frequency_video_game_music', 'anxiety', 'depression',\n",
      "       'insomnia', 'ocd', 'music_effects', 'permissions'],\n",
      "      dtype='object')\n"
     ]
    }
   ],
   "source": [
    "df.rename(columns=col_mapper, inplace=True)\n",
    "print(df.columns)"
   ]
  },
  {
   "cell_type": "code",
   "execution_count": 5,
   "metadata": {},
   "outputs": [
    {
     "data": {
      "text/html": [
       "<div>\n",
       "<style scoped>\n",
       "    .dataframe tbody tr th:only-of-type {\n",
       "        vertical-align: middle;\n",
       "    }\n",
       "\n",
       "    .dataframe tbody tr th {\n",
       "        vertical-align: top;\n",
       "    }\n",
       "\n",
       "    .dataframe thead th {\n",
       "        text-align: right;\n",
       "    }\n",
       "</style>\n",
       "<table border=\"1\" class=\"dataframe\">\n",
       "  <thead>\n",
       "    <tr style=\"text-align: right;\">\n",
       "      <th></th>\n",
       "      <th>uuid</th>\n",
       "      <th>timestamp</th>\n",
       "      <th>age</th>\n",
       "      <th>primary_streaming_service</th>\n",
       "      <th>hours_per_day</th>\n",
       "      <th>while_working</th>\n",
       "      <th>instrumentalist</th>\n",
       "      <th>composer</th>\n",
       "      <th>fav_genre</th>\n",
       "      <th>exploratory</th>\n",
       "      <th>...</th>\n",
       "      <th>frequency_r&amp;b</th>\n",
       "      <th>frequency_rap</th>\n",
       "      <th>frequency_rock</th>\n",
       "      <th>frequency_video_game_music</th>\n",
       "      <th>anxiety</th>\n",
       "      <th>depression</th>\n",
       "      <th>insomnia</th>\n",
       "      <th>ocd</th>\n",
       "      <th>music_effects</th>\n",
       "      <th>permissions</th>\n",
       "    </tr>\n",
       "  </thead>\n",
       "  <tbody>\n",
       "    <tr>\n",
       "      <th>0</th>\n",
       "      <td>c5f3024e-e31a-4a83-89ac-f83d8be5b588</td>\n",
       "      <td>8/27/2022 19:29:02</td>\n",
       "      <td>18.0</td>\n",
       "      <td>Spotify</td>\n",
       "      <td>3.0</td>\n",
       "      <td>Yes</td>\n",
       "      <td>Yes</td>\n",
       "      <td>Yes</td>\n",
       "      <td>Latin</td>\n",
       "      <td>Yes</td>\n",
       "      <td>...</td>\n",
       "      <td>Sometimes</td>\n",
       "      <td>Very frequently</td>\n",
       "      <td>Never</td>\n",
       "      <td>Sometimes</td>\n",
       "      <td>3.0</td>\n",
       "      <td>0.0</td>\n",
       "      <td>1.0</td>\n",
       "      <td>0.0</td>\n",
       "      <td>NaN</td>\n",
       "      <td>I understand.</td>\n",
       "    </tr>\n",
       "    <tr>\n",
       "      <th>1</th>\n",
       "      <td>fea9f95b-cb86-4b37-b4f3-478d0ccdaa2c</td>\n",
       "      <td>8/27/2022 19:57:31</td>\n",
       "      <td>63.0</td>\n",
       "      <td>Pandora</td>\n",
       "      <td>1.5</td>\n",
       "      <td>Yes</td>\n",
       "      <td>No</td>\n",
       "      <td>No</td>\n",
       "      <td>Rock</td>\n",
       "      <td>Yes</td>\n",
       "      <td>...</td>\n",
       "      <td>Sometimes</td>\n",
       "      <td>Rarely</td>\n",
       "      <td>Very frequently</td>\n",
       "      <td>Rarely</td>\n",
       "      <td>7.0</td>\n",
       "      <td>2.0</td>\n",
       "      <td>2.0</td>\n",
       "      <td>1.0</td>\n",
       "      <td>NaN</td>\n",
       "      <td>I understand.</td>\n",
       "    </tr>\n",
       "  </tbody>\n",
       "</table>\n",
       "<p>2 rows × 34 columns</p>\n",
       "</div>"
      ],
      "text/plain": [
       "                                   uuid           timestamp   age  \\\n",
       "0  c5f3024e-e31a-4a83-89ac-f83d8be5b588  8/27/2022 19:29:02  18.0   \n",
       "1  fea9f95b-cb86-4b37-b4f3-478d0ccdaa2c  8/27/2022 19:57:31  63.0   \n",
       "\n",
       "  primary_streaming_service  hours_per_day while_working instrumentalist  \\\n",
       "0                   Spotify            3.0           Yes             Yes   \n",
       "1                   Pandora            1.5           Yes              No   \n",
       "\n",
       "  composer fav_genre exploratory  ... frequency_r&b    frequency_rap  \\\n",
       "0      Yes     Latin         Yes  ...     Sometimes  Very frequently   \n",
       "1       No      Rock         Yes  ...     Sometimes           Rarely   \n",
       "\n",
       "    frequency_rock frequency_video_game_music anxiety depression insomnia  \\\n",
       "0            Never                  Sometimes     3.0        0.0      1.0   \n",
       "1  Very frequently                     Rarely     7.0        2.0      2.0   \n",
       "\n",
       "   ocd music_effects    permissions  \n",
       "0  0.0           NaN  I understand.  \n",
       "1  1.0           NaN  I understand.  \n",
       "\n",
       "[2 rows x 34 columns]"
      ]
     },
     "execution_count": 5,
     "metadata": {},
     "output_type": "execute_result"
    }
   ],
   "source": [
    "# Add unique id column\n",
    "df['uuid'] = [uuid.uuid4() for _ in range(len(df))]\n",
    "\n",
    "# move it to first\n",
    "first_col = df.pop('uuid')\n",
    "df.insert(0, 'uuid', first_col)\n",
    "\n",
    "df.head(2)"
   ]
  },
  {
   "cell_type": "code",
   "execution_count": 6,
   "metadata": {},
   "outputs": [
    {
     "data": {
      "text/plain": [
       "0    NaN\n",
       "1    NaN\n",
       "2    0.0\n",
       "3    1.0\n",
       "4    1.0\n",
       "Name: music_effects, dtype: float64"
      ]
     },
     "execution_count": 6,
     "metadata": {},
     "output_type": "execute_result"
    }
   ],
   "source": [
    "# Replace improve with 1\n",
    "df = df.replace({\n",
    "    'Improve': 1,\n",
    "    'No effect': 0,\n",
    "    'Worsen': 0 # too few responses\n",
    "})\n",
    "df['music_effects'][0:5]"
   ]
  },
  {
   "cell_type": "code",
   "execution_count": 7,
   "metadata": {},
   "outputs": [],
   "source": [
    "# Remove unhelpful and potentially PII columns\n",
    "cols_to_drop = [\n",
    "    'bpm', # too few responses and too nonsensical answers\n",
    "    'permissions', # everyone answered yes\n",
    "    'timestamp' # potentially PII\n",
    "    ]\n",
    "\n",
    "cleaned_df = df.drop(columns=cols_to_drop)"
   ]
  },
  {
   "cell_type": "code",
   "execution_count": 8,
   "metadata": {},
   "outputs": [
    {
     "name": "stdout",
     "output_type": "stream",
     "text": [
      "18 rows dropped (718 remaining)\n"
     ]
    }
   ],
   "source": [
    "# Drop remaining rows containing any number of NaN\n",
    "cleaned_df = cleaned_df.dropna()\n",
    "print(f'{len(df)-len(cleaned_df)} rows dropped ({len(cleaned_df)} remaining)')"
   ]
  },
  {
   "cell_type": "markdown",
   "metadata": {},
   "source": [
    "## Export to SQL"
   ]
  },
  {
   "cell_type": "code",
   "execution_count": 9,
   "metadata": {},
   "outputs": [
    {
     "name": "stdout",
     "output_type": "stream",
     "text": [
      "<class 'pandas.core.frame.DataFrame'>\n",
      "Index: 718 entries, 2 to 735\n",
      "Data columns (total 31 columns):\n",
      " #   Column                      Non-Null Count  Dtype  \n",
      "---  ------                      --------------  -----  \n",
      " 0   uuid                        718 non-null    object \n",
      " 1   age                         718 non-null    float64\n",
      " 2   primary_streaming_service   718 non-null    object \n",
      " 3   hours_per_day               718 non-null    float64\n",
      " 4   while_working               718 non-null    object \n",
      " 5   instrumentalist             718 non-null    object \n",
      " 6   composer                    718 non-null    object \n",
      " 7   fav_genre                   718 non-null    object \n",
      " 8   exploratory                 718 non-null    object \n",
      " 9   foreign_languages           718 non-null    object \n",
      " 10  frequency_classical         718 non-null    object \n",
      " 11  frequency_country           718 non-null    object \n",
      " 12  frequency_edm               718 non-null    object \n",
      " 13  frequency_folk              718 non-null    object \n",
      " 14  frequency_gospel            718 non-null    object \n",
      " 15  frequency_hip_hop           718 non-null    object \n",
      " 16  frequency_jazz              718 non-null    object \n",
      " 17  frequency_k_pop             718 non-null    object \n",
      " 18  frequency_latin             718 non-null    object \n",
      " 19  frequency_lofi              718 non-null    object \n",
      " 20  frequency_metal             718 non-null    object \n",
      " 21  frequency_pop               718 non-null    object \n",
      " 22  frequency_r&b               718 non-null    object \n",
      " 23  frequency_rap               718 non-null    object \n",
      " 24  frequency_rock              718 non-null    object \n",
      " 25  frequency_video_game_music  718 non-null    object \n",
      " 26  anxiety                     718 non-null    float64\n",
      " 27  depression                  718 non-null    float64\n",
      " 28  insomnia                    718 non-null    float64\n",
      " 29  ocd                         718 non-null    float64\n",
      " 30  music_effects               718 non-null    float64\n",
      "dtypes: float64(7), object(24)\n",
      "memory usage: 179.5+ KB\n"
     ]
    }
   ],
   "source": [
    "cleaned_df['uuid'] = cleaned_df['uuid'].astype(str)\n",
    "cleaned_df.info()"
   ]
  },
  {
   "cell_type": "code",
   "execution_count": 10,
   "metadata": {},
   "outputs": [],
   "source": [
    "# Initialize SQLAlchemy engine\n",
    "engine = create_engine('sqlite:///resources/cleaned.db')"
   ]
  },
  {
   "cell_type": "code",
   "execution_count": 11,
   "metadata": {},
   "outputs": [
    {
     "data": {
      "text/plain": [
       "718"
      ]
     },
     "execution_count": 11,
     "metadata": {},
     "output_type": "execute_result"
    }
   ],
   "source": [
    "cleaned_df.to_sql('main', con=engine, if_exists='replace', index=False)"
   ]
  }
 ],
 "metadata": {
  "kernelspec": {
   "display_name": "dev",
   "language": "python",
   "name": "python3"
  },
  "language_info": {
   "codemirror_mode": {
    "name": "ipython",
    "version": 3
   },
   "file_extension": ".py",
   "mimetype": "text/x-python",
   "name": "python",
   "nbconvert_exporter": "python",
   "pygments_lexer": "ipython3",
   "version": "3.10.13"
  }
 },
 "nbformat": 4,
 "nbformat_minor": 2
}
