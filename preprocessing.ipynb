{
 "cells": [
  {
   "cell_type": "markdown",
   "metadata": {},
   "source": [
    "# Preprocessing"
   ]
  },
  {
   "cell_type": "markdown",
   "metadata": {},
   "source": [
    "## Imports"
   ]
  },
  {
   "cell_type": "code",
   "execution_count": 4,
   "metadata": {},
   "outputs": [],
   "source": [
    "import pandas as pd\n",
    "from sqlalchemy import create_engine\n",
    "from cleaning import col_mapper\n",
    "\n",
    "from sklearn.model_selection import train_test_split\n",
    "from sklearn.preprocessing import StandardScaler\n",
    "from imblearn.over_sampling import RandomOverSampler"
   ]
  },
  {
   "cell_type": "code",
   "execution_count": null,
   "metadata": {},
   "outputs": [],
   "source": [
    "# Initialize engine connecting to the SQLite database\n",
    "engine = create_engine('sqlite:///resources/cleaned.db')\n",
    "\n",
    "# SQL query\n",
    "query = 'SELECT * FROM main'\n",
    "\n",
    "# Execute query and read the data into a DataFrame\n",
    "pd.set_option('display.max_columns', None)\n",
    "df = pd.read_sql_query(query, con=engine)\n",
    "\n",
    "# set uuid as index\n",
    "df = df.set_index('uuid')\n",
    "df.head(2)"
   ]
  },
  {
   "cell_type": "markdown",
   "metadata": {},
   "source": [
    "## Encoding\n",
    "Converting objects into numeric for ML"
   ]
  },
  {
   "cell_type": "code",
   "execution_count": null,
   "metadata": {},
   "outputs": [],
   "source": [
    "# making a copy of the df imported from SQL\n",
    "df_encoded = df.copy()\n",
    "df_encoded.info()"
   ]
  },
  {
   "cell_type": "code",
   "execution_count": null,
   "metadata": {},
   "outputs": [],
   "source": [
    "# making yes/no columns binary\n",
    "columns_for_conversion = ['instrumentalist',\n",
    "                          'composer',\n",
    "                          'while_working',\n",
    "                          'exploratory',\n",
    "                          'foreign_languages'\n",
    "                          ]\n",
    "\n",
    "for col in columns_for_conversion:\n",
    "    df_encoded[col] = df_encoded[col].map({\n",
    "        'Yes': 1,\n",
    "        'No' : 0\n",
    "        })\n",
    "\n",
    "df_encoded.head(2)"
   ]
  },
  {
   "cell_type": "code",
   "execution_count": null,
   "metadata": {},
   "outputs": [],
   "source": [
    "# change frequency_<genre> values to numeric\n",
    "frequency_mapping = {\n",
    "    'Never': 0,\n",
    "    'Rarely': 1,\n",
    "    'Sometimes': 2,\n",
    "    'Very frequently': 3\n",
    "}\n",
    "\n",
    "# loop to change all frequency_<genre> columns\n",
    "for col in df_encoded.columns:\n",
    "    if col.startswith('frequency_'):\n",
    "        df_encoded[col] = df_encoded[col].map(frequency_mapping)\n",
    "\n",
    "df_encoded.head(2)"
   ]
  },
  {
   "cell_type": "code",
   "execution_count": null,
   "metadata": {},
   "outputs": [],
   "source": [
    "# cols_for_processing = df_encoded.columns.drop('uuid')\n",
    "df_encoded = pd.get_dummies(df_encoded)#[cols_for_processing])\n",
    "df_encoded.head(2)\n"
   ]
  },
  {
   "cell_type": "code",
   "execution_count": null,
   "metadata": {},
   "outputs": [],
   "source": [
    "df_encoded.rename(columns=col_mapper, inplace=True)\n",
    "print(df_encoded.columns)"
   ]
  },
  {
   "cell_type": "markdown",
   "metadata": {},
   "source": [
    "## Define testing and training data"
   ]
  },
  {
   "cell_type": "markdown",
   "metadata": {},
   "source": [
    "### I. Splitting encoded data into training and test data"
   ]
  },
  {
   "cell_type": "code",
   "execution_count": null,
   "metadata": {},
   "outputs": [],
   "source": [
    "# define target and feature data\n",
    "target_col = 'music_effects'\n",
    "\n",
    "y = df_encoded[target_col].values\n",
    "X = df_encoded.drop(columns=target_col).values"
   ]
  },
  {
   "cell_type": "markdown",
   "metadata": {},
   "source": [
    "### II. imbalamced learn"
   ]
  },
  {
   "cell_type": "code",
   "execution_count": null,
   "metadata": {},
   "outputs": [],
   "source": [
    "df_encoded['music_effects'].value_counts()"
   ]
  },
  {
   "cell_type": "markdown",
   "metadata": {},
   "source": [
    "these music_effects are quite skewed - needed to introduce imbalanced-learn"
   ]
  },
  {
   "cell_type": "code",
   "execution_count": null,
   "metadata": {},
   "outputs": [],
   "source": []
  },
  {
   "cell_type": "markdown",
   "metadata": {},
   "source": []
  }
 ],
 "metadata": {
  "kernelspec": {
   "display_name": "Python 3 (ipykernel)",
   "language": "python",
   "name": "python3"
  },
  "language_info": {
   "codemirror_mode": {
    "name": "ipython",
    "version": 3
   },
   "file_extension": ".py",
   "mimetype": "text/x-python",
   "name": "python",
   "nbconvert_exporter": "python",
   "pygments_lexer": "ipython3",
   "version": "3.10.12"
  }
 },
 "nbformat": 4,
 "nbformat_minor": 2
}
